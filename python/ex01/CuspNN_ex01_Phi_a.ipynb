{
 "cells": [
  {
   "cell_type": "markdown",
   "id": "243f5b05",
   "metadata": {},
   "source": [
    "# Cusp-capturing PINN - Example 1\n",
    "\n",
    "* level set augmentation: $\\phi$\n",
    "* activation function: sigmoid"
   ]
  },
  {
   "cell_type": "markdown",
   "id": "51d1b38f",
   "metadata": {},
   "source": [
    "### Import packages"
   ]
  },
  {
   "cell_type": "code",
   "execution_count": 1,
   "id": "e0b603d0",
   "metadata": {},
   "outputs": [],
   "source": [
    "import torch\n",
    "import torch.nn as nn\n",
    "from mpl_toolkits import mplot3d\n",
    "import numpy as np\n",
    "import matplotlib.pyplot as plt\n",
    "import functools\n",
    "from pyDOE import lhs\n",
    "\n",
    "from functorch import make_functional, vmap, grad, jacrev, hessian\n",
    "\n",
    "from collections import namedtuple, OrderedDict\n",
    "import datetime\n",
    "import time\n",
    "from IPython.display import clear_output \n",
    "\n",
    "import warnings\n",
    "warnings.filterwarnings('ignore')"
   ]
  },
  {
   "cell_type": "markdown",
   "id": "5d37a549",
   "metadata": {},
   "source": [
    "### Empty cache and check devices "
   ]
  },
  {
   "cell_type": "code",
   "execution_count": 2,
   "id": "7f40cfec",
   "metadata": {},
   "outputs": [
    {
     "name": "stdout",
     "output_type": "stream",
     "text": [
      "device =  cpu\n"
     ]
    }
   ],
   "source": [
    "torch.cuda.empty_cache()\n",
    "torch.set_default_dtype(torch.float64)\n",
    "device = 'cuda' if torch.cuda.is_available() else 'cpu'\n",
    "print('device = ', device)"
   ]
  },
  {
   "cell_type": "markdown",
   "id": "c85db90d",
   "metadata": {},
   "source": [
    "### Pre-setup"
   ]
  },
  {
   "cell_type": "code",
   "execution_count": 3,
   "id": "0b578d3c",
   "metadata": {},
   "outputs": [],
   "source": [
    "# domain [a,b]\\times[c,d]\n",
    "bda = 0.\n",
    "bdb = 1.\n",
    "# interface position\n",
    "gma = 1./3.\n",
    "# beta\n",
    "btao = 1.\n",
    "btai = 1.\n",
    "bta_jmp = btao - btai\n",
    "bta_avg = 0.5*( btao + btai )\n",
    "# Network size\n",
    "n_input  = 2\n",
    "n_hidden = 2\n",
    "n_output = 1\n",
    "n_depth = 1 # only used in deep NN\n",
    "# tolerence for LM\n",
    "tol_main    = 10**(-11)\n",
    "tol_machine = 10**(-15)\n",
    "mu_max      = 10**8\n",
    "mu_ini      = 10**8\n",
    "mu_div      = 1.3\n",
    "mu_mul      = 2.\n",
    "# iteration counts and check\n",
    "tr_iter_max    = 1000                      # max. iteration\n",
    "ts_input_new   = 500                       # renew testing points \n",
    "ls_check       = 500\n",
    "ls_check0      = ls_check - 1\n",
    "# number of training points and testing points\n",
    "c_addpt = 1.\n",
    "M0 = 10\n",
    "N_trd = int(1*M0) \n",
    "N_trb = 2\n",
    "N_trg = 1\n",
    "N_tsd_final = 1000 #100*N_trd\n",
    "N_tsg_final = 1   #10*N_trg\n",
    "# create names for storages\n",
    "fname = 'test' \n",
    "char_id = 'a' "
   ]
  },
  {
   "cell_type": "markdown",
   "id": "1b7c8f23",
   "metadata": {},
   "source": [
    "### Exact solution, level set function, and right-hand-side"
   ]
  },
  {
   "cell_type": "code",
   "execution_count": 4,
   "id": "a90444c1",
   "metadata": {},
   "outputs": [],
   "source": [
    "def levfun(opt, x):\n",
    "    qo = x - gma\n",
    "    if opt == 0:\n",
    "        q = np.copy(qo)\n",
    "        for i in range(len(qo)):\n",
    "            if qo[i] < 0.:\n",
    "                q[i] = -qo[i]  # remove the minus sign when continuous augmented input used\n",
    "    else:\n",
    "        q = np.zeros( (len(x),4) )\n",
    "        q[:,0:1] = qo\n",
    "        q[:,1:2] = 1.\n",
    "        q[:,3:4] = 0.\n",
    "        for i in range(len(x)):\n",
    "            if qo[i] < 0.:\n",
    "                q[i,:] = - q[i,:]  # remove the minus sign when continuous augmented input used\n",
    "        q[:,2:3] = q[:,1:2] * q[:,1:2]\n",
    "    return q, qo\n",
    "\n",
    "\n",
    "def lvnorvec(x):\n",
    "    qnor = 1.\n",
    "    return qnor\n",
    "\n",
    "\n",
    "# exact solution of example 01 and 02\n",
    "def exact_u(x, z):\n",
    "    eu = np.zeros_like(z)\n",
    "    gma_0 = gma - 1\n",
    "    for i in range(len(z)):\n",
    "        if z[i] >= 0.:\n",
    "            eu[i] = gma*( x[i] - bdb )\n",
    "        else:\n",
    "            eu[i] = gma_0*( x[i] - bda )\n",
    "    return eu\n",
    "\n",
    "# normal derivative jump of level set function\n",
    "def jump_lvdn(x):\n",
    "    qdn_jmp = 2*np.ones_like(x)  \n",
    "    # set to zero when continuous augmented input used\n",
    "    # qdn_jmp = np.zeros_like(x)  \n",
    "    return qdn_jmp\n",
    "\n",
    "\n",
    "# normal derivative jump condition along interface: [\\beta\\partial_n u]=1 \n",
    "def jump_btadun(x):\n",
    "    dun = np.ones_like(x)\n",
    "    return dun\n",
    "\n",
    "\n",
    "# source\n",
    "def lapu(x, z):\n",
    "    ef = np.zeros_like(z)\n",
    "    return ef"
   ]
  },
  {
   "cell_type": "markdown",
   "id": "8c37cfb2",
   "metadata": {},
   "source": [
    "### Define networks: Shallow and Deep"
   ]
  },
  {
   "cell_type": "code",
   "execution_count": 5,
   "id": "44879550",
   "metadata": {},
   "outputs": [],
   "source": [
    "class NeuralNet_Shallow(torch.nn.Module):\n",
    "    \n",
    "    ### in_dim: dimension of input; h_dim: number of neurons; out_dim: dimension of output\n",
    "    \n",
    "    def __init__(self, in_dim , h_dim , out_dim):\n",
    "        super(NeuralNet_Shallow, self).__init__()\n",
    "        self.ln1 = nn.Linear( in_dim , h_dim )\n",
    "        self.act1 =nn.Sigmoid()\n",
    "        #self.act1 =nn.ReLU()\n",
    "        self.ln2 = nn.Linear( h_dim , out_dim , bias=False )\n",
    "        \n",
    "    def forward(self, x):\n",
    "        out = self.ln1(x)\n",
    "        out = self.act1(out)\n",
    "        out = self.ln2(out)\n",
    "        return out"
   ]
  },
  {
   "cell_type": "code",
   "execution_count": 6,
   "id": "a23e3bbb",
   "metadata": {},
   "outputs": [],
   "source": [
    "class NeuralNet_Deep(torch.nn.Module):\n",
    "    \n",
    "    ### in_dim: dimension of input; h_dim: number of neurons; out_dim: dimension of output\n",
    "    ### depth: depth of the network\n",
    "    def __init__(self, in_dim , h_dim , out_dim , depth ):\n",
    "        super(NeuralNet_Deep, self).__init__()\n",
    "        self.depth = depth - 1\n",
    "        self.list  = nn.ModuleList()\n",
    "        self.ln1   = nn.Linear( in_dim , h_dim )\n",
    "        self.act1 =nn.Sigmoid()\n",
    "        #self.act1 =nn.ReLU()\n",
    "        \n",
    "        for i in range(self.depth):\n",
    "            self.list.append( nn.Linear( h_dim , h_dim ) )\n",
    "        \n",
    "        self.lnd = nn.Linear( h_dim , out_dim , bias=False )\n",
    "        \n",
    "    def forward(self, x):\n",
    "        out = self.ln1(x)\n",
    "        out = self.act1(out)\n",
    "        for i in range(self.depth):\n",
    "            out = self.list[i](out)\n",
    "            out = self.act1(out)\n",
    "        out = self.lnd(out)\n",
    "        return out"
   ]
  },
  {
   "cell_type": "markdown",
   "id": "e44af594",
   "metadata": {},
   "source": [
    "### Essential namedtuples in the model"
   ]
  },
  {
   "cell_type": "code",
   "execution_count": 7,
   "id": "c6dbe6b4",
   "metadata": {},
   "outputs": [],
   "source": [
    "DataInput = namedtuple( \"DataInput\" , [ \"Xd\" , \"Phid\" , \"Fd\" , \"Xb\" , \"Ub\" , \"Xg\" , \"Fdng\" , \"NL\" , \"NL_sqrt\"] )\n",
    "LM_Setup  = namedtuple( \"LM_Setup\" , [ 'p_vec_o' , 'dp_o' , 'L_o' , 'J_o' , 'mu0' , 'criterion' ] )"
   ]
  },
  {
   "cell_type": "markdown",
   "id": "dd6a18ed",
   "metadata": {},
   "source": [
    "### Data generator"
   ]
  },
  {
   "cell_type": "code",
   "execution_count": 8,
   "id": "e8dad94d",
   "metadata": {},
   "outputs": [],
   "source": [
    "def generate_data(iopt, Nd):\n",
    "    \n",
    "    ## Xd: points inside the domain (randomly)\n",
    "    sampling = lhs(n_input-1, Nd)\n",
    "    xd = bda + (bdb-bda)*sampling[:,0:1]\n",
    "    Phid, zo = levfun(1, xd)\n",
    "    # remove points at the interface\n",
    "    zid  = np.where(np.abs(zo)<5e-16)\n",
    "    Phid = np.delete(Phid, zid[0], 0)\n",
    "    xd   = np.delete(xd, zid[0], 0)\n",
    "    zo   = np.delete(zo, zid[0], 0)    \n",
    "    # torch tensor and requires_grad\n",
    "    Xd = np.hstack( ( xd , Phid[:,0:1] ) )\n",
    "    Xd = torch.tensor(Xd, requires_grad=True).double().to(device)\n",
    "    Phid = torch.tensor(Phid).double().to(device)\n",
    "    # right hand side\n",
    "    Fd = torch.tensor( lapu(xd, zo) ).double().to(device)\n",
    "\n",
    "    ## Xb: points at the boundary\n",
    "    xb = np.vstack( ( bda , bdb ) )\n",
    "    z, zo = levfun(0, xb)\n",
    "    # Boundary condition\n",
    "    Ub = exact_u( xb , zo)\n",
    "    Xb = np.hstack( ( xb , z ) )\n",
    "    # torch tensor and require grad\n",
    "    Xb = torch.tensor(Xb, requires_grad=True).double().to(device)\n",
    "    Ub = torch.tensor(Ub).double().to(device)\n",
    "       \n",
    "    ## X_gma: points on the interface N_trg\n",
    "    xg = gma\n",
    "    z  = np.zeros_like(xg)\n",
    "    Xg = np.hstack( ( xg , z ) )\n",
    "    Xg = torch.tensor(Xg, requires_grad=True).double().to(device)\n",
    "    # normal vector along the interface\n",
    "    Xnor_gm = lvnorvec(xg)\n",
    "    # normal derivative jump condition for level function\n",
    "    Qdn_gm  = jump_lvdn(xg)\n",
    "    # normal derivative jump condition for u\n",
    "    Udn_gm  = jump_btadun(xg)     \n",
    "    # combine and torch tensor\n",
    "    Fdng = torch.tensor( np.hstack( ( Xnor_gm , Qdn_gm , Udn_gm ) ) ).double().to(device)\n",
    "    \n",
    "    NL      = [len(Fd)+3, len(Fd), 2, 1]\n",
    "    NL_sqrt = np.sqrt(NL)\n",
    "    \n",
    "    ## plot the distribution of data\n",
    "    if iopt != 0:\n",
    "        print(f'No. of training points in the bulk domain: {len(Fd)}')\n",
    "        print(f'No. of training points at the outer boundary: {2}')\n",
    "        print(f'No. of training points at the interface: {1}')\n",
    "        plt.figure(figsize = (5,5))\n",
    "        plt.scatter(xd, 0*xd, c = \"b\", s = 10, marker = \".\") \n",
    "        plt.scatter(xb, 0*xb, c = \"r\", s = 40, marker = \".\")\n",
    "        plt.scatter(xg, 0*xg, c = \"k\", s = 60, marker = \".\")\n",
    "        plt.xlabel('x')\n",
    "        #plt.axis('equal')\n",
    "        plt.title('training data points')\n",
    "        plt.show()\n",
    "    \n",
    "    return Xd, Phid, Fd, Xb, Ub, Xg, Fdng, NL, NL_sqrt "
   ]
  },
  {
   "cell_type": "markdown",
   "id": "4cc56ba3",
   "metadata": {},
   "source": [
    "### Components of loss"
   ]
  },
  {
   "cell_type": "code",
   "execution_count": 9,
   "id": "16ada3a3",
   "metadata": {},
   "outputs": [],
   "source": [
    "# compute the interior loss\n",
    "def func_lossd(func_params, pts, phid, fd):\n",
    "    def f(x, func_params):\n",
    "        fx = func_model(func_params, x)\n",
    "        return fx.squeeze(0).squeeze(0)\n",
    "    # derivatives of u wrt inputs\n",
    "    d1u = jacrev(f)(pts, func_params)\n",
    "    d2u = jacrev(jacrev(f))(pts, func_params)\n",
    "    \n",
    "    u_z  = d1u[1]\n",
    "    u_xz = d2u[0][1] \n",
    "    u_xx = d2u[0][0]\n",
    "    u_zz = d2u[1][1]\n",
    "    lossd = u_xx + 2.*u_xz*phid[1:2] + u_zz*phid[2:3] + u_z*phid[3:4] - fd\n",
    "    return lossd\n",
    "\n",
    "\n",
    "# compute the boundary loss \n",
    "def func_lossb(func_params, pts, ub):\n",
    "    def f(x, func_params):\n",
    "        fx = func_model(func_params, x)\n",
    "        return fx.squeeze(0).squeeze(0)\n",
    "    # function value at the boundary (Dirichlet boundary condition)\n",
    "    lossb = f(pts, func_params) - ub\n",
    "    return lossb\n",
    "\n",
    "\n",
    "# compute the interior loss\n",
    "def func_lossg(func_params, pts, fdng):\n",
    "    def f(x, func_params):\n",
    "        fx = func_model(func_params, x)\n",
    "        return fx.squeeze(0).squeeze(0)\n",
    "    # derivatives of u wrt inputs\n",
    "    d1u = jacrev(f)(pts, func_params)\n",
    "    ug_x = d1u[0]\n",
    "    ug_z = d1u[1]\n",
    "    lossg = bta_jmp*ug_x*fdng[0:1] + bta_avg*ug_z*fdng[1:2] - fdng[2:3]\n",
    "    return lossg        "
   ]
  },
  {
   "cell_type": "markdown",
   "id": "56eb3469",
   "metadata": {},
   "source": [
    "### Levenberg-Marquardt (LM) optimizer"
   ]
  },
  {
   "cell_type": "code",
   "execution_count": 10,
   "id": "99041c92",
   "metadata": {},
   "outputs": [],
   "source": [
    "# parameters counter\n",
    "def count_parameters(func_params):\n",
    "    return sum(p.numel() for p in func_params if p.requires_grad)"
   ]
  },
  {
   "cell_type": "code",
   "execution_count": 11,
   "id": "88ba37be",
   "metadata": {},
   "outputs": [],
   "source": [
    "# get the model's parameter\n",
    "def get_p_vec(func_params):\n",
    "    p_vec = []\n",
    "    cnt = 0\n",
    "    for p in func_params:\n",
    "        p_vec = p.contiguous().view(-1) if cnt == 0 else torch.cat([p_vec, p.contiguous().view(-1)])\n",
    "        cnt = 1 \n",
    "    return p_vec"
   ]
  },
  {
   "cell_type": "code",
   "execution_count": 12,
   "id": "fd0a7e8f",
   "metadata": {},
   "outputs": [],
   "source": [
    "# Initialization of LM method\n",
    "def generate_initial_LM(func_params, Xd_len):\n",
    "    \n",
    "    # data_length\n",
    "    data_length = Xd_len + 3\n",
    "    \n",
    "    # p_vector\n",
    "    with torch.no_grad():\n",
    "        p_vec_old = get_p_vec(func_params).double().to(device)\n",
    "    \n",
    "    # dp\n",
    "    dp_old = torch.zeros( [ count_parameters(func_params) , 1 ] ).double().to(device)\n",
    "\n",
    "    # Loss\n",
    "    L_old = torch.zeros( [ data_length , 1 ] ).double().to(device)\n",
    "    \n",
    "    # Jacobian\n",
    "    J_old = torch.zeros( [ data_length , count_parameters(func_params) ] ).double().to(device)\n",
    "    \n",
    "    return p_vec_old, dp_old, L_old, J_old"
   ]
  },
  {
   "cell_type": "code",
   "execution_count": 13,
   "id": "62431280",
   "metadata": {},
   "outputs": [],
   "source": [
    "def train_PINNs_LM(func_params, LM_setup, tr_input, lossval, lossval_dbg):\n",
    "    \n",
    "    # assign tuple elements of LM_set_up\n",
    "    p_vec_o, dp_o, L_o, J_o, mu, criterion = LM_setup\n",
    "    I_pvec = torch.eye(len(p_vec_o)).to(device)\n",
    "    \n",
    "    # assign tuple elements of data_input \n",
    "    [Xd, Phid, Fd, Xb, Ub, Xg, Fdng, NL, NL_sqrt] = tr_input\n",
    "    \n",
    "    # iteration counts and check\n",
    "    Comput_old = True\n",
    "    step       = 0\n",
    "    \n",
    "    # try-except statement to avoid jam in the code\n",
    "    try:\n",
    "        while (lossval[-1]>tol_main) and (step<=tr_iter_max):\n",
    "            \n",
    "            torch.cuda.empty_cache()\n",
    "            \n",
    "            ############################################################\n",
    "            # LM_optimizer\n",
    "            if ( Comput_old == True ):   # need to compute loss_old and J_old\n",
    "                \n",
    "                ### computation of loss\n",
    "                Ld = vmap((func_lossd), (None, 0, 0, 0))(func_params, Xd, Phid, Fd).flatten().detach()\n",
    "                Lb = vmap((func_lossb), (None, 0, 0))(func_params, Xb, Ub).flatten().detach()\n",
    "                Lg = func_lossg(func_params, Xg, Fdng).flatten().detach()\n",
    "                L  = torch.cat( ( Ld/NL_sqrt[1] , Lb/NL_sqrt[2] , Lg/NL_sqrt[3] ) )\n",
    "                L  = L.reshape(NL[0],1).detach()\n",
    "                lsd_sum = torch.sum(Ld*Ld)/NL[1]\n",
    "                lsb_sum = torch.sum(Lb*Lb)/NL[2]\n",
    "                lsg_sum = torch.sum(Lg*Lg)/NL[3]\n",
    "                loss_dbg_old = [lsd_sum.item(), lsb_sum.item(), lsg_sum.item()]\n",
    "                        \n",
    "            loss_old     = lossval[-1]\n",
    "            loss_dbg_old = lossval_dbg[-1]\n",
    "            \n",
    "            ### compute the gradinet of loss function for each point\n",
    "            with torch.no_grad():\n",
    "                p_vec = get_p_vec(func_params).detach() # get p_vec for p_vec_old if neccessary \n",
    "        \n",
    "            if criterion:\n",
    "                per_sample_grads_D = vmap(jacrev(func_lossd), (None, 0, 0, 0))(func_params, Xd, Phid, Fd)\n",
    "                cnt = 0\n",
    "                for g in per_sample_grads_D: \n",
    "                    g = g.detach()\n",
    "                    J_d = g.reshape(len(g),-1) if cnt == 0 else torch.hstack([J_d,g.reshape(len(g),-1)])\n",
    "                    cnt = 1\n",
    "\n",
    "                per_sample_grads_B = vmap(jacrev(func_lossb), (None, 0, 0))(func_params, Xb, Ub)\n",
    "                cnt = 0\n",
    "                for g in per_sample_grads_B: \n",
    "                    g = g.detach()\n",
    "                    J_b = g.reshape(len(g),-1) if cnt == 0 else torch.hstack([J_b,g.reshape(len(g),-1)])\n",
    "                    cnt = 1\n",
    "        \n",
    "                per_sample_grads_G = jacrev(func_lossg)(func_params, Xg, Fdng)\n",
    "                cnt = 0\n",
    "                for g in per_sample_grads_G: \n",
    "                    g = g.detach()\n",
    "                    J_g = g.reshape(len(g),-1) if cnt == 0 else torch.hstack([J_g,g.reshape(len(g),-1)])\n",
    "                    cnt = 1\n",
    "            \n",
    "                J = torch.cat( ( J_d/NL_sqrt[1] , J_b/NL_sqrt[2] , J_g/NL_sqrt[3] ) ).detach()\n",
    "                \n",
    "                ### info. normal equation of J\n",
    "                J_product = J.t()@J\n",
    "                rhs       = - J.t()@L\n",
    "                 \n",
    "                    \n",
    "            with torch.no_grad():\n",
    "                ### solve the linear system\n",
    "                dp  = torch.linalg.solve( J_product + mu*I_pvec , rhs )\n",
    "                cnt = 0\n",
    "                for p in func_params:\n",
    "                    mm   = torch.Tensor([p.shape]).tolist()[0]\n",
    "                    num  = int( functools.reduce( lambda x,y : x*y, mm, 1 ) )\n",
    "                    p   += dp[cnt:cnt+num].reshape(p.shape)\n",
    "                    cnt += num\n",
    "            \n",
    "            ### Compute loss_new    \n",
    "            Ld = vmap((func_lossd), (None, 0, 0, 0))(func_params, Xd, Phid, Fd).flatten().detach()\n",
    "            Lb = vmap((func_lossb), (None, 0, 0))(func_params, Xb, Ub).flatten().detach()\n",
    "            Lg = func_lossg(func_params, Xg, Fdng).flatten().detach()\n",
    "            L  = torch.cat( ( Ld/NL_sqrt[1] , Lb/NL_sqrt[2] , Lg/NL_sqrt[3] ) )\n",
    "            L  = L.reshape( NL[0] , 1 ).detach()\n",
    "            loss_new = torch.sum(L*L).item()\n",
    "            lsd_sum = torch.sum(Ld*Ld)/NL[1]\n",
    "            lsb_sum = torch.sum(Lb*Lb)/NL[2]\n",
    "            lsg_sum = torch.sum(Lg*Lg)/NL[3]\n",
    "            loss_dbg_new = [lsd_sum.item(), lsb_sum.item(), lsg_sum.item()]\n",
    "    \n",
    "                \n",
    "            # strategy to update mu\n",
    "            if ( step > 0 ):\n",
    "                \n",
    "                with torch.no_grad():\n",
    "             \n",
    "                    # accept update \n",
    "                    if loss_new < loss_old:\n",
    "                        p_vec_old  = p_vec.detach()\n",
    "                        dp_old     = dp\n",
    "                        L_old      = L\n",
    "                        J_old      = J\n",
    "                        mu         = max( mu/mu_div , tol_machine )\n",
    "                        criterion  = True #False\n",
    "                        Comput_old = False\n",
    "                        lossval.append(loss_new)\n",
    "                        lossval_dbg.append(loss_dbg_new)\n",
    "                    \n",
    "                    else:\n",
    "                        cosine = nn.functional.cosine_similarity(dp, dp_old, dim=0, eps=1e-15)\n",
    "                        cosine_check = (1.-cosine)*loss_new > min(lossval) # loss_old\n",
    "                        if cosine_check: # give up the direction\n",
    "                            cnt=0\n",
    "                            for p in func_params:\n",
    "                                mm   = torch.Tensor([p.shape]).tolist()[0]\n",
    "                                num  = int( functools.reduce(lambda x,y: x*y, mm, 1) )\n",
    "                                p   -= dp[cnt:cnt+num].reshape(p.shape)\n",
    "                                cnt += num\n",
    "                            mu = min( mu_mul*mu , mu_max )\n",
    "                            criterion  = False\n",
    "                            Comput_old = False\n",
    "                        else: # accept \n",
    "                            p_vec_old = p_vec.detach()\n",
    "                            dp_old    = dp \n",
    "                            L_old     = L\n",
    "                            J_old     = J\n",
    "                            mu        = max( mu/mu_div , tol_machine )       \n",
    "                            criterion  = True\n",
    "                            Comput_old = False\n",
    "                        lossval.append(loss_old)\n",
    "                        lossval_dbg.append(loss_dbg_old)\n",
    "            \n",
    "            else:   # for old info. \n",
    "       \n",
    "                with torch.no_grad():\n",
    "              \n",
    "                    p_vec_old  = p_vec.detach()\n",
    "                    dp_old     = dp\n",
    "                    L_old      = L\n",
    "                    J_old      = J\n",
    "                    mu         = max( mu/mu_div , tol_machine )\n",
    "                    criterion  = True\n",
    "                    Comput_old = False\n",
    "                    lossval.append(loss_new)\n",
    "                    lossval_dbg.append(loss_dbg_new)\n",
    "            \n",
    "           \n",
    "            if step % ls_check == ls_check0:\n",
    "                print(\"Step %s: \" % (step) )\n",
    "                print(f\" training loss: {lossval[-1]:.4e}\")\n",
    "            \n",
    "            step += 1\n",
    "            \n",
    "        \n",
    "        print(\"Step %s: \" % (step-1) )\n",
    "        print(f\" training loss: {lossval[-1]:.4e}\")\n",
    "        print('finished')\n",
    "        lossval     = lossval[1:]\n",
    "        lossval_dbg = lossval_dbg[1:]\n",
    "        relerr_loss = lossval[-1]\n",
    "        return lossval, lossval_dbg, relerr_loss\n",
    "    \n",
    "    except KeyboardInterrupt:\n",
    "        print('Interrupt')\n",
    "        print('steps = ', step)\n",
    "        lossval     = lossval[1:]\n",
    "        lossval_dbg = lossval_dbg[1:]\n",
    "        relerr_loss = lossval[-1]\n",
    "        return lossval, lossval_dbg, relerr_loss"
   ]
  },
  {
   "cell_type": "code",
   "execution_count": 14,
   "id": "a3a1f7be",
   "metadata": {},
   "outputs": [
    {
     "name": "stdout",
     "output_type": "stream",
     "text": [
      "No. of training points in the bulk domain: 10\n",
      "No. of training points at the outer boundary: 2\n",
      "No. of training points at the interface: 1\n"
     ]
    },
    {
     "data": {
      "image/png": "[encoded data removed]",
      "text/plain": [
       "<Figure size 360x360 with 1 Axes>"
      ]
     },
     "metadata": {
      "needs_background": "light"
     },
     "output_type": "display_data"
    },
    {
     "name": "stdout",
     "output_type": "stream",
     "text": [
      "No. of trainable parameters = 8\n",
      "Step 132: \n",
      " training loss: 9.5503e-12\n",
      "finished\n"
     ]
    }
   ],
   "source": [
    "# storages for errors, time instants, and IRK stages\n",
    "relerr_loss = []\n",
    "for char in char_id:\n",
    "    \n",
    "    torch.cuda.empty_cache()\n",
    "    \n",
    "    # NN structure\n",
    "    if n_depth == 1:   # Shallow NN\n",
    "        model = NeuralNet_Shallow( n_input , n_hidden , n_output ).double().to(device)\n",
    "    else:   # Deep NN\n",
    "        model = NeuralNet_Deep( n_input , n_hidden , n_output , n_depth ).double().to(device)\n",
    "\n",
    "    # use Pytorch and functorch\n",
    "    func_model, func_params = make_functional(model)\n",
    "    \n",
    "    # generate training data\n",
    "    Xd_tr, Phid_tr, Fd_tr, Xb_tr, Ub_tr, Xg_tr, Fdng_tr, NL_tr, NL_sqrt_tr = generate_data(1, N_trd)\n",
    "    tr_input  = DataInput(Xd=Xd_tr, Phid=Phid_tr, Fd=Fd_tr, Xb=Xb_tr, Ub=Ub_tr, Xg=Xg_tr, Fdng=Fdng_tr, \n",
    "                          NL=NL_tr, NL_sqrt=NL_sqrt_tr)\n",
    "    \n",
    "    # initialization of LM\n",
    "    p_vec_old, dp_old, L_old, J_old = generate_initial_LM(func_params, NL_tr[1])\n",
    "    print(f\"No. of trainable parameters = {len(p_vec_old)}\")\n",
    "        \n",
    "    # LM_setup\n",
    "    mu = 10**(8)\n",
    "    criterion = True\n",
    "    LM_setup = LM_Setup( p_vec_o=p_vec_old , dp_o=dp_old , L_o=L_old , J_o=J_old , mu0=mu , criterion=criterion )\n",
    "\n",
    "    # allocate loss\n",
    "    lossval         = []\n",
    "    lossval_dbg     = []\n",
    "    lossval.append(1.)\n",
    "    lossval_dbg.append([1.,1.,1.])\n",
    "\n",
    "    # train the model by LM optimizer\n",
    "    lossval, lossval_dbg, relerr_loss_char = train_PINNs_LM(func_params, LM_setup, tr_input, lossval, lossval_dbg)\n",
    "    relerr_loss.append(relerr_loss_char)\n",
    "    \n",
    "    N_loss = len(lossval)\n",
    "    lossval        = np.array(lossval).reshape(N_loss,1)\n",
    "    lossval_dbg    = np.array(lossval_dbg)\n",
    "    epochcol = np.linspace(1, N_loss, N_loss).reshape(N_loss,1)\n",
    "    "
   ]
  },
  {
   "cell_type": "code",
   "execution_count": 15,
   "id": "30bc81d8",
   "metadata": {},
   "outputs": [
    {
     "data": {
      "image/png": "[encoded data removed]",
      "text/plain": [
       "<Figure size 360x360 with 1 Axes>"
      ]
     },
     "metadata": {
      "needs_background": "light"
     },
     "output_type": "display_data"
    }
   ],
   "source": [
    "# plot evolution of loss\n",
    "plt.figure(figsize = (5,5))\n",
    "\n",
    "plt.semilogy(epochcol, lossval)\n",
    "plt.legend(['loss_tr'], loc='upper right')\n",
    "plt.title('loss')\n",
    "plt.xlabel('epoch')\n",
    "result = np.hstack( ( epochcol, lossval, lossval_dbg ) )\n",
    "plt.xlim(0, 500)\n",
    "plt.ylim(10**(-12), 10**(2))\n",
    "plt.show()"
   ]
  },
  {
   "cell_type": "markdown",
   "id": "6fe66702",
   "metadata": {},
   "source": [
    "### Testing data"
   ]
  },
  {
   "cell_type": "code",
   "execution_count": 16,
   "id": "28868c35",
   "metadata": {},
   "outputs": [
    {
     "name": "stdout",
     "output_type": "stream",
     "text": [
      "No. of testing point: N_tsin (1000) + N_tsgm (1) = 1001\n"
     ]
    },
    {
     "data": {
      "image/png": "[encoded data removed]",
      "text/plain": [
       "<Figure size 960x288 with 2 Axes>"
      ]
     },
     "metadata": {
      "needs_background": "light"
     },
     "output_type": "display_data"
    }
   ],
   "source": [
    "# No. of testing points\n",
    "print(f'No. of testing point: N_tsin ({N_tsd_final}) + N_tsgm ({N_tsg_final}) = {N_tsd_final+N_tsg_final}')\n",
    "\n",
    "# fixed pseudo random generator\n",
    "#np.random.seed(777)\n",
    "\n",
    "# testing points\n",
    "sampling = lhs(n_input-1, N_tsd_final)\n",
    "x = bda + (bdb-bda)*sampling[:,0:1]\n",
    "z, zo  = levfun(0, x)\n",
    "X_tsd = np.hstack( ( x , z ) )\n",
    "X_tsd_torch = torch.tensor(X_tsd).double().to(device)\n",
    "\n",
    "# exact solution of u\n",
    "ref_u_tsd = exact_u(x, zo)\n",
    "ref_u_tsd_infnorm = np.linalg.norm(ref_u_tsd, np.inf) \n",
    "ref_u_tsd_L2norm  = np.linalg.norm(ref_u_tsd, 2)\n",
    "\n",
    "\n",
    "# generate interfacial testing points\n",
    "x = gma \n",
    "z = np.zeros_like( x )\n",
    "## normal vector \n",
    "Xnor_tsg = lvnorvec(x)\n",
    "## normal derivative jump condition for level function\n",
    "qdn_tsg = jump_lvdn(x)\n",
    "## normal derivative jump condition for u\n",
    "udn_tsg = jump_btadun(x)\n",
    "## interface \n",
    "X_tsg = np.hstack( ( x , z ) )\n",
    "\n",
    "# set up a figure twice as wide as it is tall\n",
    "fig = plt.figure(figsize=plt.figaspect(0.3))\n",
    "\n",
    "#===============\n",
    "#  First subplot\n",
    "#===============\n",
    "# set up the axes for the first plot\n",
    "ax = fig.add_subplot(1, 2, 1)\n",
    "plt.scatter(X_tsd[:,0:1], 0*X_tsd[:,0:1], c = \"b\", s = 10, marker = \".\") \n",
    "plt.scatter(X_tsg[0], 0*X_tsg[0], c = \"r\", s = 60, marker = \".\")\n",
    "plt.xlabel('x')\n",
    "#plt.axis('equal')\n",
    "plt.title('test data points')\n",
    "\n",
    "#===============\n",
    "# Second subplot\n",
    "#===============\n",
    "# set up the axes for the second plot\n",
    "ax = fig.add_subplot(1, 2, 2)\n",
    "plt.scatter(X_tsd[:,0:1], ref_u_tsd, c = \"b\", s = 10, marker = \".\") \n",
    "plt.xlabel('x')\n",
    "plt.title('Exact sol.')\n",
    "plt.axis('equal')\n",
    "plt.show()"
   ]
  },
  {
   "cell_type": "code",
   "execution_count": 17,
   "id": "00dd9724",
   "metadata": {},
   "outputs": [
    {
     "name": "stdout",
     "output_type": "stream",
     "text": [
      "L_inf err.    : 7.6857e-08\n",
      "L_inf relerr. : 3.4602e-07\n",
      "L_2 err.    : 1.0994e-06\n",
      "L_2 relerr. : 2.7097e-07\n"
     ]
    }
   ],
   "source": [
    "pred_u = func_model(func_params, X_tsd_torch)[:].cpu().detach().numpy().flatten()\n",
    "abserr = np.abs( pred_u - ref_u_tsd.flatten() )\n",
    "err_inf = np.linalg.norm(abserr, np.inf)\n",
    "err_L2  = np.linalg.norm(abserr, 2)\n",
    "relerr_inf = err_inf / ref_u_tsd_infnorm\n",
    "print(f\"L_inf err.    : {err_inf:.4e}\")\n",
    "print(f\"L_inf relerr. : {relerr_inf:.4e}\")\n",
    "relerr_L2  = err_L2 / ref_u_tsd_L2norm\n",
    "print(f\"L_2 err.    : {err_L2:.4e}\")\n",
    "print(f\"L_2 relerr. : {relerr_L2:.4e}\")"
   ]
  },
  {
   "cell_type": "code",
   "execution_count": 18,
   "id": "dd26b08f",
   "metadata": {
    "tags": []
   },
   "outputs": [
    {
     "data": {
      "image/png": "[encoded data removed]",
      "text/plain": [
       "<Figure size 960x288 with 3 Axes>"
      ]
     },
     "metadata": {
      "needs_background": "light"
     },
     "output_type": "display_data"
    }
   ],
   "source": [
    "# set up a figure twice as wide as it is tall\n",
    "fig = plt.figure(figsize=plt.figaspect(0.3))\n",
    "\n",
    "#===============\n",
    "#  First subplot\n",
    "#===============\n",
    "# set up the axes for the first plot\n",
    "ax = fig.add_subplot(1, 2, 1)\n",
    "plt.scatter(X_tsd[:,0:1], pred_u, c = \"b\", s = 10, marker = \".\")\n",
    "plt.xlabel('x')\n",
    "plt.title('prediction')\n",
    "plt.ylim(-0.4, 0.1)\n",
    "\n",
    "# set up the axes for the first plot\n",
    "ax = fig.add_subplot(1, 2, 2)\n",
    "surf = ax.scatter(X_tsd[:,0:1], abserr, c=abserr)\n",
    "fig.colorbar(surf, shrink=0.5, aspect=5)\n",
    "plt.xlabel('x')\n",
    "plt.title('abs.err.')\n",
    "plt.ylim(-0.5, 1.5)\n",
    "\n",
    "plt.show()\n"
   ]
  }
 ],
 "metadata": {
  "kernelspec": {
   "display_name": "Python 3 (ipykernel)",
   "language": "python",
   "name": "python3"
  },
  "language_info": {
   "codemirror_mode": {
    "name": "ipython",
    "version": 3
   },
   "file_extension": ".py",
   "mimetype": "text/x-python",
   "name": "python",
   "nbconvert_exporter": "python",
   "pygments_lexer": "ipython3",
   "version": "3.9.7"
  }
 },
 "nbformat": 4,
 "nbformat_minor": 5
}
